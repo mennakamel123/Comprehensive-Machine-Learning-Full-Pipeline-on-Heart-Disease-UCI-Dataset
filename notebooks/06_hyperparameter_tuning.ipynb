{
 "cells": [
  {
   "cell_type": "markdown",
   "id": "75821618",
   "metadata": {},
   "source": [
    "Importing libraries"
   ]
  },
  {
   "cell_type": "code",
   "execution_count": 3,
   "id": "9bd3a267",
   "metadata": {},
   "outputs": [],
   "source": [
    "import pandas as pd\n",
    "import joblib\n",
    "from sklearn.preprocessing import StandardScaler\n",
    "from sklearn.model_selection import train_test_split, GridSearchCV, RandomizedSearchCV\n",
    "from sklearn.ensemble import RandomForestClassifier\n",
    "from sklearn.metrics import accuracy_score, classification_report\n",
    "from sklearn.pipeline import Pipeline"
   ]
  },
  {
   "cell_type": "markdown",
   "id": "2fb039a9",
   "metadata": {},
   "source": [
    "Loading the dataset "
   ]
  },
  {
   "cell_type": "code",
   "execution_count": 4,
   "id": "9ddf1f29",
   "metadata": {},
   "outputs": [
    {
     "name": "stdout",
     "output_type": "stream",
     "text": [
      "Feature-selected dataset loaded.\n"
     ]
    }
   ],
   "source": [
    "try:\n",
    "    df = pd.read_csv('C:/MENNA_DATA/Heart_Disease_Project/dataset attributes/feature_selected_dataset.csv')\n",
    "    print(\"Feature-selected dataset loaded.\")\n",
    "except FileNotFoundError:\n",
    "    print(\"Error: 'feature_selected_dataset.csv' not found.\")\n",
    "    exit()\n",
    "\n",
    "X = df.drop('target', axis=1)\n",
    "y = df['target']\n",
    "X_train, X_test, y_train, y_test = train_test_split(X, y, test_size=0.2, random_state=42, stratify=y)"
   ]
  },
  {
   "cell_type": "markdown",
   "id": "064330c9",
   "metadata": {},
   "source": [
    "Best model selection"
   ]
  },
  {
   "cell_type": "code",
   "execution_count": 18,
   "id": "12ee7049",
   "metadata": {},
   "outputs": [
    {
     "name": "stdout",
     "output_type": "stream",
     "text": [
      "--- Baseline Random Forest Performance ---\n",
      "\tAccuracy: 0.8852\n"
     ]
    }
   ],
   "source": [
    "base_model = RandomForestClassifier(random_state=42)\n",
    "base_model.fit(X_train, y_train)\n",
    "y_pred_base = base_model.predict(X_test)\n",
    "print(\"--- Baseline Random Forest Performance ---\")\n",
    "print(f\"\\tAccuracy: {accuracy_score(y_test, y_pred_base):.4f}\")"
   ]
  },
  {
   "cell_type": "markdown",
   "id": "dc55c605",
   "metadata": {},
   "source": [
    "Hyperparameter Tuning"
   ]
  },
  {
   "cell_type": "code",
   "execution_count": null,
   "id": "b1a27c74",
   "metadata": {},
   "outputs": [
    {
     "name": "stdout",
     "output_type": "stream",
     "text": [
      "\n",
      "--- Running RandomizedSearchCV ---\n",
      "Fitting 5 folds for each of 100 candidates, totalling 500 fits\n",
      "Best parameters from RandomizedSearch: {'n_estimators': 200, 'min_samples_split': 2, 'min_samples_leaf': 4, 'max_depth': 20, 'bootstrap': True}\n"
     ]
    }
   ],
   "source": [
    "# 1-RandomizedSearchCV\n",
    "param_grid = {\n",
    "    'n_estimators': [100, 200, 300],\n",
    "    'max_depth': [None, 10, 20, 30],\n",
    "    'min_samples_split': [2, 5, 10],\n",
    "    'min_samples_leaf': [1, 2, 4],\n",
    "    'bootstrap': [True, False]\n",
    "}\n",
    "print(\"\\n--- Running RandomizedSearchCV ---\")\n",
    "rf_random = RandomizedSearchCV(estimator=base_model,\n",
    "                               param_distributions=param_grid,\n",
    "                               n_iter=100, \n",
    "                               cv=5,       \n",
    "                               verbose=1,\n",
    "                               random_state=42,\n",
    "                               n_jobs=-1) \n",
    "rf_random.fit(X_train, y_train)\n",
    "print(\"Best parameters from RandomizedSearch:\", rf_random.best_params_)"
   ]
  },
  {
   "cell_type": "code",
   "execution_count": 16,
   "id": "90d7d02e",
   "metadata": {},
   "outputs": [
    {
     "name": "stdout",
     "output_type": "stream",
     "text": [
      "\n",
      "--- Running GridSearchCV ---\n",
      "Fitting 5 folds for each of 81 candidates, totalling 405 fits\n",
      "Best parameters from GridSearchCV: {'max_depth': 10, 'min_samples_leaf': 4, 'min_samples_split': 2, 'n_estimators': 200}\n"
     ]
    }
   ],
   "source": [
    "# 2-Grid SearchCV\n",
    "param_grid_grid = {\n",
    "    'n_estimators': [100, 200, 300],\n",
    "    'max_depth': [10, 20, None],\n",
    "    'min_samples_split': [2, 5, 10],\n",
    "    'min_samples_leaf': [1, 2, 4]\n",
    "}\n",
    "print(\"\\n--- Running GridSearchCV ---\")\n",
    "grid_search = GridSearchCV(estimator=base_model,\n",
    "                           param_grid=param_grid_grid,\n",
    "                           cv=5,\n",
    "                           n_jobs=-1,\n",
    "                           verbose=1)\n",
    "grid_search.fit(X_train, y_train)\n",
    "print(\"Best parameters from GridSearchCV:\", grid_search.best_params_)"
   ]
  },
  {
   "cell_type": "code",
   "execution_count": 22,
   "id": "6047b54a",
   "metadata": {},
   "outputs": [
    {
     "name": "stdout",
     "output_type": "stream",
     "text": [
      "\n",
      "--- Final Model Performance after Hyperparameter Tuning ---\n",
      "              precision    recall  f1-score   support\n",
      "\n",
      "           0       0.94      0.88      0.91        33\n",
      "           1       0.87      0.93      0.90        28\n",
      "\n",
      "    accuracy                           0.90        61\n",
      "   macro avg       0.90      0.90      0.90        61\n",
      "weighted avg       0.90      0.90      0.90        61\n",
      "\n",
      "\n",
      "Optimized model saved to 'models/final_model.pkl'\n"
     ]
    }
   ],
   "source": [
    "# Evaluation Report\n",
    "best_model = rf_random.best_estimator_\n",
    "y_pred_best = best_model.predict(X_test)\n",
    "print(\"\\n--- Final Model Performance after Hyperparameter Tuning ---\")\n",
    "report  = classification_report(y_test, y_pred_best)\n",
    "print(report)\n",
    "filename = 'C:/MENNA_DATA/Heart_Disease_Project/results/final_evaluation_report.txt'\n",
    "\n",
    "joblib.dump(best_model, 'C:/MENNA_DATA/Heart_Disease_Project/models/final_model.pkl')\n",
    "\n",
    "print(\"\\nOptimized model saved to 'models/final_model.pkl'\")\n",
    "with open(filename, 'w') as f:\n",
    "    f.write(report)"
   ]
  }
 ],
 "metadata": {
  "kernelspec": {
   "display_name": "Python 3",
   "language": "python",
   "name": "python3"
  },
  "language_info": {
   "codemirror_mode": {
    "name": "ipython",
    "version": 3
   },
   "file_extension": ".py",
   "mimetype": "text/x-python",
   "name": "python",
   "nbconvert_exporter": "python",
   "pygments_lexer": "ipython3",
   "version": "3.13.5"
  }
 },
 "nbformat": 4,
 "nbformat_minor": 5
}
